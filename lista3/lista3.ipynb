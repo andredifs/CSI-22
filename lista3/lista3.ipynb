{
 "cells": [
  {
   "attachments": {},
   "cell_type": "markdown",
   "metadata": {},
   "source": [
    "### Aluno: André Diogo Firmino dos Santos\n",
    "### Lista 3 - Resolução\n",
    "### CSI-22"
   ]
  },
  {
   "cell_type": "code",
   "execution_count": null,
   "metadata": {},
   "outputs": [],
   "source": [
    "# Questão 1\n",
    "\n",
    "class Vehicle:\n",
    "    def __init__(self, name, mileage, capacity):\n",
    "        self.name = name\n",
    "        self.mileage = mileage\n",
    "        self.capacity = capacity\n",
    "\n",
    "    def fare(self):\n",
    "        return self.capacity * 100\n",
    "    \n",
    "class Bus(Vehicle):\n",
    "    def fare(self):\n",
    "        return (super().fare()) * 1.1\n",
    "\n",
    "School_bus = Bus(\"School Volvo\", 12, 50)\n",
    "print(\"Total Bus fare is:\", School_bus.fare())"
   ]
  },
  {
   "attachments": {},
   "cell_type": "markdown",
   "metadata": {},
   "source": [
    "### Questão 2\n",
    "### Exemplos do funcionamento do MRO:"
   ]
  },
  {
   "cell_type": "code",
   "execution_count": 2,
   "metadata": {},
   "outputs": [
    {
     "name": "stdout",
     "output_type": "stream",
     "text": [
      "Vehicle\n"
     ]
    }
   ],
   "source": [
    "# MRO: Car -> Vehicle\n",
    "class Vehicle:\n",
    "    def name(self):\n",
    "        print(\"Vehicle\")\n",
    "\n",
    "class Car(Vehicle):\n",
    "    pass\n",
    "\n",
    "car  = Car()\n",
    "\n",
    "# Uma vez que Car herda de Vehicle, o método name() de Vehicle é chamado\n",
    "car.name()"
   ]
  },
  {
   "cell_type": "code",
   "execution_count": 10,
   "metadata": {},
   "outputs": [
    {
     "name": "stdout",
     "output_type": "stream",
     "text": [
      "Car\n",
      "Vehicle\n"
     ]
    }
   ],
   "source": [
    "# MRO: Porsche -> Car -> Vehicle\n",
    "class Vehicle:\n",
    "    def type(self):\n",
    "        print(\"Vehicle\")\n",
    "\n",
    "class Car:\n",
    "    def type(self):\n",
    "        print(\"Car\")\n",
    "\n",
    "class Porsche(Car, Vehicle):\n",
    "    pass\n",
    "\n",
    "porsche = Porsche()\n",
    "\n",
    "# Uma vez que a lista de classes pai de Porsche é [Car, Vehicle] \n",
    "# o método type() de Car é chamado\n",
    "porsche.type()\n",
    "\n",
    "# MRO: Mercedes -> Car -> Vehicle\n",
    "class Mercedes(Vehicle, Car):\n",
    "    pass\n",
    "\n",
    "# Uma vez que a lista de classes pai de Porsche é [Vehicle, Car] \n",
    "# o método type() de Vechicle é chamado\n",
    "mercedes = Mercedes()\n",
    "mercedes.type()"
   ]
  },
  {
   "cell_type": "code",
   "execution_count": 5,
   "metadata": {},
   "outputs": [
    {
     "name": "stdout",
     "output_type": "stream",
     "text": [
      "Meow\n",
      "Meow\n",
      "Woof\n",
      "Woof\n",
      "Quack\n",
      "Flap\n",
      "I'm quacking too!\n",
      "I'm flapping my arms!\n"
     ]
    }
   ],
   "source": [
    "# Questão 3\n",
    "\n",
    "# Polimorfismo\n",
    "class Animal:\n",
    "    def __init__(self, name):\n",
    "        self.name = name\n",
    "\n",
    "    def talk(self):\n",
    "        pass\n",
    "\n",
    "class Cat(Animal):\n",
    "    def talk(self):\n",
    "        print('Meow')\n",
    "\n",
    "class Dog(Animal):\n",
    "    def talk(self):\n",
    "        print('Woof')\n",
    "\n",
    "# Observe-se que, como todos os animais tem o método talk(), podemos\n",
    "# criar uma lista de animais e iterar sobre ela para que cada um fale\n",
    "animals = [Cat('Frajola'), Cat('Garfield'), Dog('Marley'), Dog('Snoopy')]\n",
    "\n",
    "for animal in animals:\n",
    "    animal.talk()\n",
    "\n",
    "# Duck Typing\n",
    "class Duck:\n",
    "    def quack(self):\n",
    "        print(\"Quack\")\n",
    "\n",
    "    def fly(self):\n",
    "        print(\"Flap\")\n",
    "\n",
    "class Person:\n",
    "    def quack(self):\n",
    "        print(\"I'm quacking too!\")\n",
    "\n",
    "    def fly(self):\n",
    "        print(\"I'm flapping my arms!\")\n",
    "\n",
    "# Observe-se que não importa o que o objeto seja, se ele tiver os métodos\n",
    "# quack() e fly() ele pode ser passado para a função quack_and_fly()\n",
    "def quack_and_fly(thing):\n",
    "    thing.quack()\n",
    "    thing.fly()\n",
    "\n",
    "duck = Duck()\n",
    "quack_and_fly(duck)\n",
    "\n",
    "person = Person()\n",
    "quack_and_fly(person)"
   ]
  },
  {
   "attachments": {},
   "cell_type": "markdown",
   "metadata": {},
   "source": [
    "![Duck typing](https://devopedia.org/images/article/24/2998.1514520209.jpg)"
   ]
  },
  {
   "cell_type": "code",
   "execution_count": 7,
   "metadata": {},
   "outputs": [
    {
     "name": "stdout",
     "output_type": "stream",
     "text": [
      "Hello, my name is Andre\n",
      "Porsche\n",
      "['Porsche', 'Ferrari', 'Lamborghini']\n",
      "3\n",
      "2\n"
     ]
    }
   ],
   "source": [
    "# Questão 4\n",
    "\n",
    "# Métodos de instância\n",
    "# Recebem uma instância da classe como primeiro argumento\n",
    "# São usados para criar métodos que dependem de uma instância\n",
    "class Person:\n",
    "    def __init__(self, name):\n",
    "        self.name = name\n",
    "\n",
    "    def speak(self):\n",
    "        print('Hello, my name is', self.name)\n",
    "\n",
    "p = Person('Andre')\n",
    "p.speak()\n",
    "\n",
    "# Métodos de classe\n",
    "# Recebem a própria classe como primeiro argumento\n",
    "# São usados para criar métodos que não dependem de uma instância\n",
    "class Car:\n",
    "    def __init__(self, name):\n",
    "        self.name = name\n",
    "\n",
    "    @classmethod\n",
    "    def get_car(cls, name):\n",
    "        return cls(name)\n",
    "    \n",
    "    @classmethod\n",
    "    def make_garage(cls, names):\n",
    "        return [cls(name) for name in names]\n",
    "    \n",
    "porsche = Car.get_car('Porsche')\n",
    "print(porsche.name)\n",
    "garage = Car.make_garage(['Porsche', 'Ferrari', 'Lamborghini'])\n",
    "print([car.name for car in garage])\n",
    "\n",
    "# Métodos estáticos\n",
    "# Não recebem nenhum argumento\n",
    "# Eles podem ser usados para implementar funções utilitárias que não estão \n",
    "# diretamente relacionadas à classe ou à instância.\n",
    "class Utils:\n",
    "    @staticmethod\n",
    "    def sum(a, b):\n",
    "        return a + b\n",
    "    def product(a, b):\n",
    "        return a * b\n",
    "\n",
    "print(Utils.sum(1, 2))\n",
    "print(Utils.product(1, 2))\n"
   ]
  }
 ],
 "metadata": {
  "kernelspec": {
   "display_name": "Python 3",
   "language": "python",
   "name": "python3"
  },
  "language_info": {
   "codemirror_mode": {
    "name": "ipython",
    "version": 3
   },
   "file_extension": ".py",
   "mimetype": "text/x-python",
   "name": "python",
   "nbconvert_exporter": "python",
   "pygments_lexer": "ipython3",
   "version": "3.10.6"
  },
  "orig_nbformat": 4
 },
 "nbformat": 4,
 "nbformat_minor": 2
}
