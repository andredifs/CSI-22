{
 "cells": [
  {
   "attachments": {},
   "cell_type": "markdown",
   "metadata": {},
   "source": [
    "# Aluno: André Diogo Firmino dos Santos\n",
    "# Lista 1 - Resolução\n",
    "# CSI-22"
   ]
  },
  {
   "cell_type": "code",
   "execution_count": 2,
   "metadata": {},
   "outputs": [],
   "source": [
    "# Importações\n",
    "\n",
    "from turtle import * "
   ]
  },
  {
   "cell_type": "code",
   "execution_count": 3,
   "metadata": {},
   "outputs": [],
   "source": [
    "# Questão 1\n",
    "\n",
    "color('pink')\n",
    "bgcolor('green')\n",
    "\n",
    "for i in range(4):\n",
    "    for j in range(4):\n",
    "        forward(20 + i * 20)\n",
    "        left(90)\n",
    "\n",
    "    if (i < 3):\n",
    "        color('green')\n",
    "        goto(pos()[0] - 10, pos()[1] - 10)\n",
    "        color('pink')\n",
    "\n",
    "done()"
   ]
  },
  {
   "cell_type": "code",
   "execution_count": 7,
   "metadata": {},
   "outputs": [],
   "source": [
    "# Questão 2\n",
    "\n",
    "color('pink')\n",
    "bgcolor('green')\n",
    "\n",
    "def draw_poly(n, sz):\n",
    "    angle = 360 / n\n",
    "\n",
    "    for i in range(n):\n",
    "        forward(sz)\n",
    "        left(angle)\n",
    "\n",
    "draw_poly(8, 50)\n",
    "\n",
    "done()"
   ]
  },
  {
   "cell_type": "code",
   "execution_count": 8,
   "metadata": {},
   "outputs": [
    {
     "name": "stdout",
     "output_type": "stream",
     "text": [
      "55\n"
     ]
    }
   ],
   "source": [
    "# Questão 3\n",
    "\n",
    "def sum_to(n):\n",
    "    res = 0\n",
    "\n",
    "    for i in range(n+1):\n",
    "        res += i\n",
    "\n",
    "    return res\n",
    "\n",
    "print(sum_to(10))"
   ]
  },
  {
   "cell_type": "code",
   "execution_count": 10,
   "metadata": {},
   "outputs": [],
   "source": [
    "# Questão 4\n",
    "\n",
    "bgcolor('green')\n",
    "\n",
    "color('blue')\n",
    "speed(10)\n",
    "\n",
    "right(90)\n",
    "goto(-200, 0)\n",
    "\n",
    "length = 200\n",
    "\n",
    "while length > 0:\n",
    "    forward(length)\n",
    "    left(90)\n",
    "    length = length - 2\n",
    "\n",
    "color('green')\n",
    "goto(200, 0)\n",
    "color('blue')\n",
    "\n",
    "length = 200\n",
    "\n",
    "while length > 0:\n",
    "    forward(length)\n",
    "    left(89)\n",
    "    length = length - 2\n",
    "\n",
    "done()"
   ]
  }
 ],
 "metadata": {
  "kernelspec": {
   "display_name": "Python 3",
   "language": "python",
   "name": "python3"
  },
  "language_info": {
   "codemirror_mode": {
    "name": "ipython",
    "version": 3
   },
   "file_extension": ".py",
   "mimetype": "text/x-python",
   "name": "python",
   "nbconvert_exporter": "python",
   "pygments_lexer": "ipython3",
   "version": "3.9.5"
  },
  "orig_nbformat": 4
 },
 "nbformat": 4,
 "nbformat_minor": 2
}
