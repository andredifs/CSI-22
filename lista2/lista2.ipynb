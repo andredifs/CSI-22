{
 "cells": [
  {
   "attachments": {},
   "cell_type": "markdown",
   "metadata": {},
   "source": [
    "### Aluno: André Diogo Firmino dos Santos\n",
    "### Lista 2 - Resolução\n",
    "### CSI-22"
   ]
  },
  {
   "cell_type": "code",
   "execution_count": null,
   "metadata": {},
   "outputs": [],
   "source": [
    "# Questão 1\n",
    "\n",
    "def clean_tuples(tuples: list[tuple]):\n",
    "    return list(filter(lambda tuple: len(tuple) > 0, tuples))"
   ]
  },
  {
   "cell_type": "code",
   "execution_count": null,
   "metadata": {},
   "outputs": [],
   "source": [
    "# Questão 2\n",
    "\n",
    "def mean_tuples(tuples: tuple[tuple[float]]):\n",
    "    return tuple(map(lambda tuple: sum(tuple) / 2, tuples))\n",
    "\n",
    "print(mean_tuples(((2,3,4),(3,4,5,6),(2,4),(4,8,9))))"
   ]
  },
  {
   "cell_type": "code",
   "execution_count": null,
   "metadata": {},
   "outputs": [],
   "source": [
    "# Questão 3\n",
    "\n",
    "def alfa_num_strings(strings: list[str]):\n",
    "    return [str for str in strings if str.isalnum()]\n"
   ]
  },
  {
   "cell_type": "code",
   "execution_count": null,
   "metadata": {},
   "outputs": [],
   "source": [
    "# Questão 4\n",
    "\n",
    "def contain_string(first: str, second: str):\n",
    "    return all(list(map(lambda c: c in second, first)))\n"
   ]
  },
  {
   "cell_type": "code",
   "execution_count": null,
   "metadata": {},
   "outputs": [],
   "source": [
    "# Questão 5\n",
    "\n",
    "def validate(first, second: list[list[float]]): \n",
    "    return all(list(map(lambda row: len(row) == len(second), first)))\n",
    "\n",
    "def matrix_multiplication(first, second: list[list[float]]):\n",
    "    if not validate(first, second):\n",
    "        raise Exception(\"Invalid matrix multiplication\")\n",
    "\n",
    "    rows = len(first)\n",
    "    columns = len(second[0])\n",
    "\n",
    "    result = [[0 for _ in range(columns)] for _ in range(rows)]\n",
    "\n",
    "    for i in range(rows):\n",
    "        for j in range(columns):\n",
    "            for k in range(len(second)):\n",
    "                result[i][j] += first[i][k] * second[k][j]\n",
    "\n",
    "    return result\n",
    "\n",
    "print(matrix_multiplication([[1,2,3],[4,5,6]], [[1,2],[3,4],[5,6]]))"
   ]
  },
  {
   "cell_type": "code",
   "execution_count": null,
   "metadata": {},
   "outputs": [],
   "source": [
    "# Questão 6\n",
    "\n",
    "def reverse_iteration(list: list):\n",
    "    yield from reversed(list)\n",
    "\n",
    "for i in reverse_iteration([4, 7, 8]):\n",
    "    print(i)"
   ]
  },
  {
   "cell_type": "code",
   "execution_count": null,
   "metadata": {},
   "outputs": [],
   "source": [
    "# Questão 7\n",
    "\n",
    "def prime_numbers():\n",
    "    number = 2\n",
    "    while True:\n",
    "        if all(number % i != 0 for i in range(2, number)):\n",
    "            yield number\n",
    "        number += 1\n",
    "\n",
    "for i in prime_numbers():\n",
    "    if i > 100:\n",
    "        break\n",
    "    print(i)"
   ]
  },
  {
   "cell_type": "code",
   "execution_count": null,
   "metadata": {},
   "outputs": [],
   "source": [
    "# Questão 8\n",
    "\n",
    "def even_numbers(numbers: list[int]):\n",
    "    return list(filter(lambda n: n % 2 == 0, numbers))\n"
   ]
  },
  {
   "cell_type": "code",
   "execution_count": null,
   "metadata": {},
   "outputs": [],
   "source": [
    "# Questão 9\n",
    "\n",
    "def apply_function_to_rows(function: callable, matrix: list[list]):\n",
    "    return list(map(function, matrix))\n"
   ]
  }
 ],
 "metadata": {
  "kernelspec": {
   "display_name": "Python 3",
   "language": "python",
   "name": "python3"
  },
  "language_info": {
   "codemirror_mode": {
    "name": "ipython",
    "version": 3
   },
   "file_extension": ".py",
   "mimetype": "text/x-python",
   "name": "python",
   "nbconvert_exporter": "python",
   "pygments_lexer": "ipython3",
   "version": "3.9.5"
  },
  "orig_nbformat": 4
 },
 "nbformat": 4,
 "nbformat_minor": 2
}
